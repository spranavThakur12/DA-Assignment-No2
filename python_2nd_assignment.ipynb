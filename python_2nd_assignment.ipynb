{
  "nbformat": 4,
  "nbformat_minor": 0,
  "metadata": {
    "colab": {
      "provenance": []
    },
    "kernelspec": {
      "name": "python3",
      "display_name": "Python 3"
    },
    "language_info": {
      "name": "python"
    }
  },
  "cells": [
    {
      "cell_type": "code",
      "execution_count": null,
      "metadata": {
        "id": "Zyr9hWbBQz1k"
      },
      "outputs": [],
      "source": []
    },
    {
      "cell_type": "markdown",
      "source": [
        "#Data Types and Structures\n"
      ],
      "metadata": {
        "id": "tsoSafd5RYg7"
      }
    },
    {
      "cell_type": "markdown",
      "source": [
        "1).What are data structures, and why are they important?\n",
        "- Data structures are specialized formats for organizing, processing, and storing data in a computer so it can be used efficiently. Common examples include arrays, linked lists, stacks, queues, trees, graphs, hash tables, and more.\n",
        "\n",
        "**why are they important**\n",
        "\n",
        "  a.) Efficiency: The right data structure can significantly improve the performance of algorithms by optimizing data access and storage.\n",
        "\n",
        "  b.)Organization: They help manage and organize data in ways that reflect real-world relationships.\n",
        "\n",
        "  c.)Reusability: Well-designed data structures can be reused across different programs or systems.\n",
        "\n",
        "  d.)Scalability: Efficient data structures are crucial for handling large amounts of data smoothly.\n",
        "\n",
        "  e.)Problem Solving: Many complex problems can be broken down and solved more easily using the appropriate data structure."
      ],
      "metadata": {
        "id": "-CIS8jyFu0dy"
      }
    },
    {
      "cell_type": "markdown",
      "source": [
        "2).Explain the difference between mutable and immutable data types with examples.\n",
        "\n",
        " **Mutable Data Types:-**\n",
        " Mutable data types can be changed after they are created. This means you can modify, add, or remove elements without changing the object’s identity.\n",
        "\n",
        "  *Examples of Mutable Data Types in Python:\n",
        "\n",
        "*  List\n",
        "*  dictionary\n",
        "*  set\n",
        "\n",
        "Example:\n",
        "\n",
        "\n"
      ],
      "metadata": {
        "id": "IEXFQXqywS5P"
      }
    },
    {
      "cell_type": "code",
      "source": [
        "my_list = [1, 2, 3]\n",
        "my_list.append(4)\n",
        "print(my_list)\n"
      ],
      "metadata": {
        "colab": {
          "base_uri": "https://localhost:8080/"
        },
        "id": "KfQjuu5TyAs1",
        "outputId": "7955cd4a-cfab-493c-cadd-6187af66d929"
      },
      "execution_count": null,
      "outputs": [
        {
          "output_type": "stream",
          "name": "stdout",
          "text": [
            "[1, 2, 3, 4]\n"
          ]
        }
      ]
    },
    {
      "cell_type": "markdown",
      "source": [
        "**Immutable data types:-**\n",
        "Immutable data types cannot be changed after they are created. Any operation that alters the data actually creates a new object\n",
        "\n",
        "*Example of immutable data types:\n",
        "\n",
        "\n",
        "* Integer\n",
        "\n",
        "* Float\n",
        "\n",
        "* String\n",
        "\n",
        "* Tuple\n",
        "\n",
        "* Boolean  \n",
        "\n",
        "Example:\n",
        "\n",
        "   \n",
        "\n",
        "\n",
        "\n",
        "\n",
        "\n"
      ],
      "metadata": {
        "id": "UlVL_lu2yIfM"
      }
    },
    {
      "cell_type": "code",
      "source": [
        "my_string = \"hello\"\n",
        "my_string += \" world\"\n",
        "print(my_string)\n"
      ],
      "metadata": {
        "colab": {
          "base_uri": "https://localhost:8080/"
        },
        "id": "RQz3IkR2zifK",
        "outputId": "55ffb66e-f855-4e5f-9f96-25666140017f"
      },
      "execution_count": null,
      "outputs": [
        {
          "output_type": "stream",
          "name": "stdout",
          "text": [
            "hello world\n"
          ]
        }
      ]
    },
    {
      "cell_type": "markdown",
      "source": [
        "3).What are the main differences between lists and tuples in Python?\n",
        "- The main difference between lists and tuples in Python is that lists are mutable (can be changed after creation) while tuples are immutable (cannot be changed after creation).\n",
        "\n",
        "**Mutability:-**\n",
        "\n",
        "\n",
        "*   List- You can add, remove, or modify elements in a list after it's created.\n",
        "*   Tuples- Once a tuple is created, its elements cannot be changed.\n",
        "\n",
        "**Syntax:-**\n",
        "\n",
        "\n",
        "*   List- Defined using square brackets [].\n",
        "*   Tuples-Defined using parentheses ().\n",
        "\n",
        "**Performance:-**\n",
        "\n",
        "\n",
        "*   List- Slower for iteration and more memory-intensive due to their mutability.\n",
        "*   Tuples- Faster for iteration and more memory-efficient due to their immutability.\n",
        "\n",
        "**Use Cases:-**\n",
        "\n",
        "\n",
        "\n",
        "*   List- Useful for situations where you need to modify the data structure, like adding or removing elements.\n",
        "*   Tuples- Best used when you need to guarantee that the data structure remains constant, like representing fixed sets of data.\n",
        "\n",
        "\n",
        "\n",
        "\n",
        "\n",
        "\n",
        "\n",
        "\n",
        "\n",
        "\n"
      ],
      "metadata": {
        "id": "TiNBO20czo__"
      }
    },
    {
      "cell_type": "markdown",
      "source": [
        "4).Describe how dictionaries store data.\n",
        "- Dictionaries store data using a key-value pair system, and under the hood, they typically use a data structure called a hash table. Here's a breakdown of how it works:-\n",
        "\n",
        "📘 Structure of a Dictionary:-\n",
        "\n",
        "   A dictionary is made up of entries where:\n",
        "\n",
        "*   Each key is unique.\n",
        "*  Each key maps to a specific value.\n",
        "\n",
        "Example of python:\n",
        "\n",
        "\n",
        "\n",
        "\n",
        "\n",
        "\n",
        "\n"
      ],
      "metadata": {
        "id": "rWVB5ich4YfF"
      }
    },
    {
      "cell_type": "code",
      "source": [
        "my_dict = {\"color\": \"blue\", \"size\": \"medium\"}"
      ],
      "metadata": {
        "id": "lnYXKHv86wkH"
      },
      "execution_count": null,
      "outputs": []
    },
    {
      "cell_type": "markdown",
      "source": [
        "⚙️ How It Works Internally:-\n",
        "\n",
        "\n",
        "1. Hashing the Key:\n",
        "\n",
        "\n",
        "\n",
        "*  When you add a key to a dictionary, the key is passed through a hash function.\n",
        "\n",
        "* This function returns a hash code (a number), which determines where to store the value in memory.\n",
        "\n",
        "\n",
        "2. Indexing:\n",
        "\n",
        "\n",
        "*   The hash code is converted into an index in an internal array (the hash table).\n",
        "\n",
        "* The value is stored at that index.\n",
        "\n",
        "3. Fast Lookup:\n",
        "\n",
        "* When you access a value using a key, the key is hashed again to find the index.\n",
        "\n",
        "* The value at that index is returned quickly — usually in constant time, O(1).\n",
        "\n",
        "4. Collision Handling:\n",
        "\n",
        "* Two different keys might produce the same index (a collision).\n",
        "\n",
        "* Dictionaries use techniques like open addressing or chaining to resolve this and still store both values.\n",
        "\n",
        "5. Resizing:\n",
        "\n",
        "* As more items are added, the dictionary may need to resize its internal array to maintain performance.\n",
        "\n",
        "* This involves rehashing and moving entries to new positions.\n",
        "\n",
        "\n",
        "\n"
      ],
      "metadata": {
        "id": "MIQ9vSIv65NT"
      }
    },
    {
      "cell_type": "markdown",
      "source": [
        "5.) Why might you use a set instead of a list in Python?\n",
        "\n",
        "- You might use a set instead of a list in Python for several reasons, depending on what you're trying to do. Here's a breakdown:-\n",
        "\n",
        "🔹 1. Uniqueness-\n",
        "\n",
        "* Sets automatically remove duplicates.\n",
        "\n",
        "* If you need a collection of unique items, a set is ideal.\n",
        "\n",
        "🔹 2. Faster Lookup-\n",
        "\n",
        "* Sets are optimized for fast membership tests.\n",
        "\n",
        "* Checking if an item is in a set is much faster than checking in a list, especially with large datasets.\n",
        "\n",
        "🔹 3. Set Operations-\n",
        "\n",
        "* Sets support operations like union, intersection, difference, and symmetric difference, which are super useful for comparing groups of data.\n",
        "\n",
        "🔹 4. Cleaner Code for Certain Tasks-\n",
        "\n",
        "* If you're doing something like removing duplicates, checking overlap, or ensuring membership uniqueness, a set leads to cleaner, more readable code"
      ],
      "metadata": {
        "id": "Vnf9Lbao8REC"
      }
    },
    {
      "cell_type": "markdown",
      "source": [
        "6.) What is a string in Python, and how is it different from a list?\n",
        "\n",
        "- In Python, a string is a sequence of characters enclosed in quotes, like \"hello\" or 'world'. A list, on the other hand, is a sequence of elements (which can be of any type) enclosed in square brackets, like [1, 2, 3] or ['a', 'b', 'c'].\n",
        "\n",
        "Here’s a breakdown of the differences between a string and a list:\n",
        "\n",
        "🔤 String-\n",
        "\n",
        "* Represents text.\n",
        "\n",
        "* Immutable (you can't change individual characters).\n",
        "\n",
        "* Each element is a character.\n",
        "\n",
        "* Defined using single ('...'), double (\"...\"), or triple quotes ('''...''' or \"\"\"...\"\"\" for multi-line strings).\n",
        "\n"
      ],
      "metadata": {
        "id": "e4_cOpAX-f_g"
      }
    },
    {
      "cell_type": "code",
      "source": [
        "s = \"hello\"\n",
        "print(s[1])\n"
      ],
      "metadata": {
        "colab": {
          "base_uri": "https://localhost:8080/"
        },
        "id": "EGFFoRJB_3h_",
        "outputId": "dc9055c1-b105-4cc7-97b0-08a50615bf0b"
      },
      "execution_count": null,
      "outputs": [
        {
          "output_type": "stream",
          "name": "stdout",
          "text": [
            "e\n"
          ]
        }
      ]
    },
    {
      "cell_type": "markdown",
      "source": [
        "📋 List-\n",
        "\n",
        "* Represents a collection of items (any type: integers, strings, other lists, etc.).\n",
        "\n",
        "* Mutable (you can change, add, or remove elements).\n",
        "\n",
        "* Defined using square brackets"
      ],
      "metadata": {
        "id": "riRwvLbY_8Jd"
      }
    },
    {
      "cell_type": "code",
      "source": [
        "lst = ['h', 'e', 'l', 'l', 'o']\n",
        "print(lst[1])  # Output: 'e'\n",
        "lst[1] = 'a'\n",
        "print(lst)     # Output: ['h', 'a', 'l', 'l', 'o']\n"
      ],
      "metadata": {
        "colab": {
          "base_uri": "https://localhost:8080/"
        },
        "id": "5Tz6EBWpAFe6",
        "outputId": "ae7bb017-f6c4-4941-a37e-b7296e9f3f2e"
      },
      "execution_count": null,
      "outputs": [
        {
          "output_type": "stream",
          "name": "stdout",
          "text": [
            "e\n",
            "['h', 'a', 'l', 'l', 'o']\n"
          ]
        }
      ]
    },
    {
      "cell_type": "markdown",
      "source": [
        "7.) How do tuples ensure data integrity in Python?\n",
        "\n",
        "- Tuples in Python help ensure data integrity through immutability—once a tuple is created, its contents cannot be changed. Here's how that contributes to data integrity:\n",
        "\n",
        "**🔒 1. Immutability-**\n",
        "\n",
        "* Tuples are immutable—you can’t modify, add, or delete elements once the tuple is created.\n",
        "\n",
        "* This prevents accidental changes to data, making them ideal for representing fixed collections of items (like coordinates, RGB values, or database records).\n",
        "\n",
        "**✅ 2. Hashability-**\n",
        "\n",
        "* Because tuples are immutable, they are hashable (if all their elements are hashable), which allows them to be used as keys in dictionaries or elements in sets.\n",
        "\n",
        "*  This is essential when you need consistent, unchangeable identifiers.\n",
        "\n",
        "**🧩 3. Safer Shared Data-**\n",
        "\n",
        "* When passing data structures around in a program, using tuples guarantees that no part of your code can unintentionally change their content.\n",
        "\n",
        "* This is especially important in multithreaded or functional programming scenarios.\n",
        "\n",
        "**📊 4. Semantic Clarity-**\n",
        "\n",
        "* Tuples can signal that the data is a fixed group of related values, like a record, where changing the contents would not make sense.\n",
        "\n",
        "* This helps enforce logical integrity at a higher level of abstraction.\n",
        "\n",
        "\n",
        "\n",
        "\n",
        "\n"
      ],
      "metadata": {
        "id": "iVH8DrfBAJUK"
      }
    },
    {
      "cell_type": "markdown",
      "source": [
        "8.) What is a hash table, and how does it relate to dictionaries in Python ?\n",
        "\n",
        "- A hash table is a data structure that stores key-value pairs, using a hash function to map keys to indices in an array (or \"bucket\") for fast retrieval, and in Python, dictionaries are implemented using hash tables.\n",
        "\n",
        "Here's a more detailed explanation:\n",
        "\n",
        "**a.)What is a Hash Table?**\n",
        "\n",
        "* A hash table (also known as a hash map or associative array) is a data structure that stores key-value pairs.\n",
        "\n",
        "* It uses a hash function to determine the location (or \"bucket\") of a key-value pair within an array.\n",
        "\n",
        "* The hash function takes a key as input and returns an integer value (the hash code) which is used as an index into the array.\n",
        "\n",
        "* This allows for very fast lookups, insertions, and deletions, with an average time complexity of O(1) (constant time).\n",
        "\n",
        "**b.)How it relates to Dictionaries in Python:**\n",
        "\n",
        "* In Python, the built-in dict data type (dictionaries) is implemented using hash tables.\n",
        "\n",
        "* When you create a dictionary in Python, the keys are hashed to determine where they are stored in the underlying hash table.\n",
        "\n",
        "* This allows Python to quickly access the values associated with any given key.\n",
        "* The hash function ensures that keys are mapped to unique (or at least distinct) locations in the hash table.\n"
      ],
      "metadata": {
        "id": "9_jiliN0BvW9"
      }
    },
    {
      "cell_type": "code",
      "source": [
        "    my_dict = {\"apple\": 1, \"banana\": 2, \"cherry\": 3}\n",
        "    print(my_dict[\"apple\"])"
      ],
      "metadata": {
        "colab": {
          "base_uri": "https://localhost:8080/"
        },
        "id": "105zh917DIw7",
        "outputId": "21ddd817-18c3-4fd6-f431-7f12fb75c05f"
      },
      "execution_count": null,
      "outputs": [
        {
          "output_type": "stream",
          "name": "stdout",
          "text": [
            "1\n"
          ]
        }
      ]
    },
    {
      "cell_type": "markdown",
      "source": [
        "9.)Can lists contain different data types in Python?\n",
        "\n",
        "- Yes, in Python, lists can contain elements of different data types. This is one of the features that makes Python lists very flexible.\n",
        "\n",
        "Here’s an example of a list with mixed data types:\n",
        "\n",
        "\n",
        "\n",
        "```\n",
        "my_list = [42, \"hello\", 3.14, True, None, [1, 2, 3], {\"key\": \"value\"}]\n",
        "\n",
        "```\n",
        "\n",
        "In this list:\n",
        "\n",
        "* 42 is an integer\n",
        "\n",
        "* \"hello\" is a string\n",
        "\n",
        "* 3.14 is a float\n",
        "\n",
        "* True is a boolean\n",
        "\n",
        "* None is a NoneType\n",
        "\n",
        "* [1, 2, 3] is another list (nested list)\n",
        "\n",
        "* {\"key\": \"value\"} is a dictionary\n",
        "\n",
        "\n"
      ],
      "metadata": {
        "id": "Rvk04e5lDTOi"
      }
    },
    {
      "cell_type": "markdown",
      "source": [
        "10.)Explain why strings are immutable in Python.\n",
        "- Strings are immutable in Python for several important reasons related to performance, security, and language design. Here's a clear breakdown:\n",
        "\n",
        "**🔒 1. Security and Hashing-**\n",
        "\n",
        "* Strings are often used as keys in dictionaries (e.g., my_dict[\"key\"] = value).\n",
        "\n",
        "* In order to be used as a key, an object must be hashable — meaning its hash value must never change.\n",
        "\n",
        "* If strings were mutable and someone changed the contents of a key, the hash would change, leading to data corruption or lookup errors.\n",
        "\n",
        "**🚀 2. Performance and Memory Optimization-**\n",
        "\n",
        "* Python uses a technique called string interning: it stores some strings in memory only once to save space and speed up comparisons.\n",
        "\n",
        "* Immutable strings make this safe because the string content can’t change, so Python can reuse them confidently.\n",
        "\n",
        "**🧩 3. Predictable and Bug-Free Code-**\n",
        "\n",
        "* If strings were mutable, changing a string in one place could unintentionally affect it somewhere else (if two variables reference the same string object).\n",
        "\n",
        "* Immutability avoids these side effects, making code more predictable and easier to debug.\n",
        "\n",
        "**🔁 4. Encourages Clear Data Transformation-**\n",
        "\n",
        "* Because strings are immutable, every string modification returns a new string.\n",
        "\n",
        "* This reinforces a functional programming style, where data transformations don’t mutate original inputs"
      ],
      "metadata": {
        "id": "4ANhSmXRFMqh"
      }
    },
    {
      "cell_type": "markdown",
      "source": [
        "11.)What advantages do dictionaries offer over lists for certain tasks?\n",
        "\n",
        "**🔑 1. Fast Lookup by Key-**\n",
        "\n",
        "* **Dictionaries** provide constant time (O(1)) access to values by key.\n",
        "\n",
        "* **Lists** require linear time (O(n)) to search for a value unless you already know the index.\n",
        "\n",
        "**✅ Use dictionaries when you need to quickly retrieve data by a specific identifier.**\n",
        "\n",
        "**📛 2. More Meaningful Access-**\n",
        "\n",
        "* In **dictionaries**, keys can be descriptive (user[\"email\"]) which improves readability.\n",
        "\n",
        "* In **lists**, you access data by index (user[3]), which can be unclear and error-prone.\n",
        "\n",
        "**✅ Dictionaries make code more self-documenting and maintainable.**\n",
        "\n",
        "**🧩 3. Flexible Key Types-**\n",
        "\n",
        "* Dictionaries can use various **immutable types** as keys (e.g., strings, numbers, tuples).\n",
        "\n",
        "* Lists are indexed by **integers only**.\n",
        "\n",
        "**✅ Better when data isn't naturally organized by position.**\n",
        "\n",
        "**🧱 4. Better for Associative Data-**\n",
        "\n",
        "* Dictionaries are ideal for storing **key-value pairs** (e.g., configurations, records, JSON-style data).\n",
        "\n",
        "* Lists are better for **ordered collections** of items.\n",
        "\n",
        "**✅ Think of dictionaries like mini-databases or objects in other languages**.\n",
        "\n",
        "**🧮 5. Avoid Duplicates (in Keys)-**\n",
        "\n",
        "* Dictionary keys are **unique**, which prevents duplication automatically.\n",
        "\n",
        "* Lists allow duplicate entries.\n",
        "\n",
        "**✅ Helps enforce data integrity when uniqueness is required.**"
      ],
      "metadata": {
        "id": "jPJH6klFGNby"
      }
    },
    {
      "cell_type": "markdown",
      "source": [
        "12.) Describe a scenario where using a tuple would be preferable over a list.\n",
        "- A tuple would be preferable over a list in a scenario where immutability and data integrity are important.\n",
        "\n",
        "**📌 Scenario: Returning multiple values from a function-**\n",
        "\n",
        "Suppose you're writing a function that processes user login and returns both a status code and a message\n",
        "\n",
        "\n",
        "```\n",
        "def login(username, password):\n",
        "    if username == \"admin\" and password == \"1234\":\n",
        "        return (True, \"Login successful\")\n",
        "    else:\n",
        "        return (False, \"Invalid credentials\")\n",
        "\n",
        "```\n",
        " **✅ Why use a tuple here:**\n",
        "\n",
        "* **Fixed size and structure:** The function always returns exactly two values in the same order.\n",
        "\n",
        "* **Immutability:** The returned data shouldn't be changed by the caller.\n",
        "\n",
        "* **Efficiency:**Tuples are slightly more memory-efficient and faster for fixed-size collections.\n",
        "\n",
        "\n",
        "\n",
        "```\n",
        "status = login(\"admin\", \"1234\")\n",
        "status[0] = False  \n",
        "\n",
        "```\n",
        "\n"
      ],
      "metadata": {
        "id": "vDBYTz6xlxy1"
      }
    },
    {
      "cell_type": "markdown",
      "source": [
        "13.)How do sets handle duplicate values in Python?\n",
        "- Sets in Python automatically remove duplicate values — they only store unique elements.\n",
        "\n",
        "**🔁 What happens with duplicates?**\n",
        "\n",
        "If you create a set or add items to one:\n",
        "\n",
        "* Any duplicate values are ignored.\n",
        "\n",
        "* The set will contain only one instance of each item.\n",
        "\n",
        "**🧪 Example:**\n",
        "\n"
      ],
      "metadata": {
        "id": "6DT8YBGfoA8J"
      }
    },
    {
      "cell_type": "code",
      "source": [
        "my_set = {1, 2, 2, 3, 4, 1}\n",
        "print(my_set)\n"
      ],
      "metadata": {
        "colab": {
          "base_uri": "https://localhost:8080/"
        },
        "id": "7BwFDEZLpGz7",
        "outputId": "eb588259-1e82-4678-dcfa-dd03e7a48573"
      },
      "execution_count": null,
      "outputs": [
        {
          "output_type": "stream",
          "name": "stdout",
          "text": [
            "{1, 2, 3, 4}\n"
          ]
        }
      ]
    },
    {
      "cell_type": "markdown",
      "source": [
        "Even though 1 and 2 appear multiple times in the definition, only one of each is kept in the set\n",
        "\n",
        "**➕ Adding values:**"
      ],
      "metadata": {
        "id": "UgENTKqNpIbb"
      }
    },
    {
      "cell_type": "code",
      "source": [
        "my_set.add(3)  # 3 is already in the set\n",
        "print(my_set)\n"
      ],
      "metadata": {
        "colab": {
          "base_uri": "https://localhost:8080/"
        },
        "id": "nrGz6xXepTKN",
        "outputId": "4b9a43f9-8140-4130-f25c-39bfb5f89ba4"
      },
      "execution_count": null,
      "outputs": [
        {
          "output_type": "stream",
          "name": "stdout",
          "text": [
            "{1, 2, 3, 4}\n"
          ]
        }
      ]
    },
    {
      "cell_type": "markdown",
      "source": [
        "**TL;DR:**\n",
        "\n",
        "* ✅ Sets = Unique values only\n",
        "\n",
        "* ❌ Duplicates are discarded\n",
        "\n",
        "* 🧠 Useful for deduplicating lists or checking membership fast"
      ],
      "metadata": {
        "id": "aFFCy0tHpUgu"
      }
    },
    {
      "cell_type": "markdown",
      "source": [
        "14.)How does the “in” keyword work differently for lists and dictionaries?\n",
        "- The \"in\" keyword in Python is used to check for membership, but how it works depends on the type of the data structure—like lists vs dictionaries.\n",
        "\n",
        "**🔹 Lists-**\n",
        "\n",
        "When used with a list, in checks whether a value exists as an element in the list.\n"
      ],
      "metadata": {
        "id": "nUgiwQZRpkrA"
      }
    },
    {
      "cell_type": "code",
      "source": [
        "my_list = [1, 2, 3, 4]\n",
        "print(2 in my_list)\n",
        "print(5 in my_list)\n"
      ],
      "metadata": {
        "colab": {
          "base_uri": "https://localhost:8080/"
        },
        "id": "KNF_Sh-6qstk",
        "outputId": "922c0be3-47c9-468b-fe20-c5cc70e66cec"
      },
      "execution_count": null,
      "outputs": [
        {
          "output_type": "stream",
          "name": "stdout",
          "text": [
            "True\n",
            "False\n"
          ]
        }
      ]
    },
    {
      "cell_type": "markdown",
      "source": [
        "**🔹 Dictionaries-**\n",
        "\n",
        "When used with a dictionary, in checks whether a value exists as a key in the dictionary."
      ],
      "metadata": {
        "id": "qyn9OqNVq40H"
      }
    },
    {
      "cell_type": "code",
      "source": [
        "my_dict = {'a': 1, 'b': 2}\n",
        "print('a' in my_dict)\n",
        "print(1 in my_dict)\n"
      ],
      "metadata": {
        "colab": {
          "base_uri": "https://localhost:8080/"
        },
        "id": "xNR6rjhrq-x8",
        "outputId": "89fa06a6-b7ff-4577-f69e-f68af2dd9f1b"
      },
      "execution_count": null,
      "outputs": [
        {
          "output_type": "stream",
          "name": "stdout",
          "text": [
            "True\n",
            "False\n"
          ]
        }
      ]
    },
    {
      "cell_type": "markdown",
      "source": [
        "15.)Can you modify the elements of a tuple? Explain why or why not.\n",
        "- No, you cannot directly modify the elements of a tuple in Python because tuples are immutable meaning their elements cannot be changed after creation.\n",
        "\n",
        "Explanation:-\n",
        "\n",
        "**Immutability:**\n",
        "\n",
        "Tuples are designed to be immutable, meaning once a tuple is created, its elements cannot be altered, added to, or removed.\n",
        "\n",
        "**Purpose:**\n",
        "\n",
        "This immutability provides several advantages:\n",
        "\n",
        "* **Data Integrity:** Ensures that the data within a tuple remains consistent and predictable, preventing accidental or unintended changes.\n",
        "\n",
        "* **Hashing:** Immutable objects like tuples can be used as keys in dictionaries or as elements in sets because their hash values remain constant.\n",
        "\n",
        "* **Efficiency:** The immutability of tuples can lead to some performance optimizations in certain scenarios.\n",
        "\n",
        "**Alternative:**\n",
        "\n",
        "If you need a mutable sequence (where elements can be changed), you should use a list instead of a tuple.\n",
        "\n",
        "Example:\n",
        "\n",
        "\n",
        "```\n",
        "    my_tuple = (1, 2, 3)\n",
        "   \n",
        "```\n",
        "\n",
        "\n"
      ],
      "metadata": {
        "id": "HsNJtrx1rJcP"
      }
    },
    {
      "cell_type": "markdown",
      "source": [
        "16.)What is a nested dictionary, and give an example of its use case?\n",
        "\n",
        "* A nested dictionary in Python is a dictionary where values can be another dictionary. This allows you to model more complex data structures, like hierarchical or structured data.\n",
        "\n",
        "**🧠 Why use a nested dictionary?**\n",
        "\n",
        "It helps organize data that has multiple levels of information. Think of it like a dictionary inside another dictionary — like a spreadsheet with multiple columns or an object with properties and sub-properties.\n",
        ":\n",
        "\n",
        "---\n",
        "\n",
        "**🔍 Example Use Case: Student Grades System- **\n",
        "\n",
        "Let’s say you’re building a simple system to store students and their grades in different subjects:\n",
        "\n",
        "\n",
        "\n",
        "```\n",
        "students = {\n",
        "    \"Alice\": {\n",
        "        \"Math\": 90,\n",
        "        \"Science\": 85,\n",
        "        \"English\": 88\n",
        "    },\n",
        "    \"Bob\": {\n",
        "        \"Math\": 75,\n",
        "        \"Science\": 80,\n",
        "        \"English\": 78\n",
        "    }\n",
        "}\n",
        "```\n",
        "\n"
      ],
      "metadata": {
        "id": "8CSiLb2oss4g"
      }
    },
    {
      "cell_type": "markdown",
      "source": [
        "17.)Describe the time complexity of accessing elements in a dictionary.\n",
        "\n",
        "* Accessing elements in a dictionary (also known as a hash map) in most programming languages like Python typically has the following time complexity:\n",
        "\n",
        "**🕒 Time Complexity:**\n",
        "\n",
        "* Average case: O(1) — constant time\n",
        "\n",
        "* Worst case: O(n) — linear time\n",
        "\n",
        "**💡 Why?**\n",
        "\n",
        "**Average case (O(1)):**\n",
        "\n",
        "* Dictionaries use hashing to map keys to values. When you access an element like my_dict[key], the key is hashed, and the hash is used to directly index into an array, allowing for constant time access in most cases.\n",
        "\n",
        "**Worst case (O(n)):**\n",
        "\n",
        "* In rare scenarios, multiple keys can hash to the same index (called a hash collision). If many collisions occur and are poorly handled (e.g., via linked lists or open addressing with high load factor), lookups can degrade to linear time. However, modern implementations (like Python’s dict) use techniques to mitigate this, making the worst case uncommon."
      ],
      "metadata": {
        "id": "VMHPiQKktwVo"
      }
    },
    {
      "cell_type": "markdown",
      "source": [
        "18.)In what situations are lists preferred over dictionaries?\n",
        "- Lists and dictionaries in Python serve different purposes, and choosing one over the other depends on the use case. Here are situations where lists are preferred over dictionaries:\n",
        "\n",
        "**✅ 1. Order Matters-**\n",
        "\n",
        "* Use a list when the order of elements is important.\n",
        "\n",
        "* Example: Maintaining a queue or processing items in sequence\n",
        "\n",
        "\n",
        "```\n",
        "tasks = ['write', 'edit', 'submit']\n",
        "\n",
        "```\n",
        "\n",
        "**✅ 2. Simple Collections of Items-**\n",
        "\n",
        "* Lists are great when you're dealing with simple, homogeneous data like numbers or strings without the need for labels.\n",
        "\n",
        "* Example: Storing names or scores.\n",
        "\n",
        "\n",
        "```\n",
        "scores = [95, 87, 78]\n",
        "\n",
        "```\n",
        "**✅ 3. Positional Access-**\n",
        "\n",
        "* If you frequently access items by index, lists are ideal.\n",
        "\n",
        "\n",
        "```\n",
        "first_score = scores[0]\n",
        "\n",
        "```\n",
        "**✅ 4. Iteration Without Keys-**\n",
        "\n",
        "* Lists are optimal for straightforward looping through items where keys/labels aren’t necessary.\n",
        "\n",
        "\n",
        "```\n",
        "for score in scores:\n",
        "    print(score)\n",
        "\n",
        "```\n",
        "\n",
        "\n",
        "**✅ 5. Memory Efficiency-**\n",
        "\n",
        "* Lists are generally more memory-efficient than dictionaries, especially for large collections of simple values.\n",
        "\n",
        "**✅ 6. Need for Sorting-**\n",
        "\n",
        "* Lists can be sorted easily with .sort() or sorted(). Dictionaries can only be sorted by keys or values with extra effort.\n",
        "\n",
        "\n",
        "```\n",
        "scores.sort()\n",
        "\n",
        "```\n",
        "\n",
        "**✅ 7. Stack or Queue Implementation-**\n",
        "\n",
        "* Lists work well for implementing stacks (LIFO) and queues (FIFO) using append(), pop(), and pop(0).\n",
        "\n",
        "\n",
        "\n",
        "```\n",
        "stack = []\n",
        "stack.append('a')\n",
        "stack.pop()  # LIFO\n",
        "\n",
        "```\n",
        "\n",
        "\n",
        "\n",
        "\n",
        "\n",
        "\n",
        "\n",
        "\n",
        "\n",
        "\n"
      ],
      "metadata": {
        "id": "n4LJoaduudi8"
      }
    },
    {
      "cell_type": "markdown",
      "source": [
        "19.)Why are dictionaries considered unordered, and how does that affect data retrieval?\n",
        "\n",
        "- Dictionaries in Python (and many other languages) are traditionally considered unordered because they do not maintain the order of the items as inserted (at least in versions before Python 3.7). Let's break this down a bit:\n",
        "\n",
        "**🧠 Why were dictionaries considered unordered?**\n",
        "\n",
        "* Hash tables: Dictionaries are implemented using hash tables under the hood. When you insert a key-value pair, the key gets hashed, and the result determines where it’s stored in memory.\n",
        "\n",
        "* No guaranteed order: In versions before Python 3.7, the internal mechanics of the hash table didn’t guarantee any consistent order of items when iterating over the dictionary.\n",
        "\n",
        "* So even if you inserted items in a specific order, you couldn’t count on retrieving them in the same order later.\n",
        "\n",
        "**🐍 But starting in Python 3.7…**\n",
        "\n",
        "* Python guarantees insertion order for dictionaries. That means if you insert keys in a particular sequence, iterating over the dictionary will return keys in that same sequence.\n",
        "\n",
        "* Even though dictionaries maintain order now, they’re still optimized for fast key-based retrieval, not for ordering or sorting.\n",
        "\n",
        "**📌 How does this affect data retrieval?**\n",
        "\n",
        "* Key-based access is constant time (O(1)) because of hashing. You can quickly retrieve values using their keys, regardless of the order.\n",
        "\n",
        "* If you want to retrieve items in a specific order (e.g., sorted by keys or values), you’ll need to use functions like sorted() or use an OrderedDict (in some use cases, though it's less needed post-3.7)."
      ],
      "metadata": {
        "id": "UbclTA_Wwa83"
      }
    },
    {
      "cell_type": "markdown",
      "source": [
        "20.)Explain the difference between a list and a dictionary in terms of data retrieval.\n",
        "\n",
        "- The main difference between a list and a dictionary in terms of data retrieval lies in how you access the data and how fast that access is:\n",
        "\n",
        "**🔢 List:**\n",
        "\n",
        "* A list is an ordered collection of elements.\n",
        "\n",
        "* Data is retrieved using index positions (e.g., my_list[2] gives the third element).\n",
        "\n",
        "* Indexes are integers, starting at 0.\n",
        "\n",
        "* Retrieval time is O(1) (constant time) if you know the index.\n",
        "\n",
        "* You usually have to search (O(n)) if you're looking for a specific value and don’t know its index.\n",
        "\n",
        "Example:\n",
        "\n",
        "\n",
        "```\n",
        "my_list = ['apple', 'banana', 'cherry']\n",
        "print(my_list[1])  # Output: 'banana'\n",
        "\n",
        "```\n",
        "🔑 Dictionary:\n",
        "\n",
        "A dictionary is an unordered collection of key-value pairs (in Python 3.7+, it preserves insertion order, but conceptually it's still based on key-value access).\n",
        "\n",
        "Data is retrieved using keys (e.g., my_dict['fruit']).\n",
        "\n",
        "Keys can be strings, numbers, or other immutable types.\n",
        "\n",
        "Retrieval time is O(1) on average, thanks to the underlying hash table mechanism.\n",
        "\n",
        "Example:\n",
        "\n",
        "\n",
        "```\n",
        "my_dict = {'fruit': 'banana', 'color': 'yellow'}\n",
        "print(my_dict['fruit'])  # Output: 'banana'\n",
        "\n",
        "```\n",
        "\n",
        "\n"
      ],
      "metadata": {
        "id": "MeWW0j1bxL3r"
      }
    },
    {
      "cell_type": "code",
      "source": [
        "#1. Write a code to create a string with your name and print it.\n",
        "\n",
        "name = \"sonu kumar\"\n",
        "print(name)\n"
      ],
      "metadata": {
        "colab": {
          "base_uri": "https://localhost:8080/"
        },
        "id": "R-KUNsXPLW0F",
        "outputId": "f5d1ef61-3b33-4434-d4dd-97e3d87066a8"
      },
      "execution_count": 1,
      "outputs": [
        {
          "output_type": "stream",
          "name": "stdout",
          "text": [
            "sonu kumar\n"
          ]
        }
      ]
    },
    {
      "cell_type": "code",
      "source": [
        "#2.  Write a code to find the length of the string \"Hello World\".\n",
        "\n",
        "text = \"Hello World\"\n",
        "length = len(text)\n",
        "print(\"Length of the string:\", length)\n"
      ],
      "metadata": {
        "colab": {
          "base_uri": "https://localhost:8080/"
        },
        "id": "QMxZFXElLq18",
        "outputId": "6362f0f0-4c46-44f2-d5b5-f50cf580ab56"
      },
      "execution_count": 2,
      "outputs": [
        {
          "output_type": "stream",
          "name": "stdout",
          "text": [
            "Length of the string: 11\n"
          ]
        }
      ]
    },
    {
      "cell_type": "code",
      "source": [
        "#3. Write a code to slice the first 3 characters from the string \"Python Programming\".\n",
        "\n",
        "text = \"Python Programming\"\n",
        "sliced_text = text[:3]\n",
        "print(sliced_text)\n"
      ],
      "metadata": {
        "colab": {
          "base_uri": "https://localhost:8080/"
        },
        "id": "igarkdCrMGSN",
        "outputId": "3e8fa537-1a70-4724-8637-fbc76168b908"
      },
      "execution_count": 3,
      "outputs": [
        {
          "output_type": "stream",
          "name": "stdout",
          "text": [
            "Pyt\n"
          ]
        }
      ]
    },
    {
      "cell_type": "code",
      "source": [
        "#4.  Write a code to convert the string \"hello\" to uppercase.\n",
        "\n",
        "text = \"hello\"\n",
        "uppercase_text = text.upper()\n",
        "print(uppercase_text)\n"
      ],
      "metadata": {
        "colab": {
          "base_uri": "https://localhost:8080/"
        },
        "id": "eEB8csZaMUTz",
        "outputId": "8222bc98-5c74-4be4-f32b-2e19b0a5af98"
      },
      "execution_count": 4,
      "outputs": [
        {
          "output_type": "stream",
          "name": "stdout",
          "text": [
            "HELLO\n"
          ]
        }
      ]
    },
    {
      "cell_type": "code",
      "source": [
        "#5.  Write a code to replace the word \"apple\" with \"orange\" in the string \"I like apple\".\n",
        "\n",
        "text = \"I like apple\"\n",
        "new_text = text.replace(\"apple\", \"orange\")\n",
        "print(new_text)\n"
      ],
      "metadata": {
        "colab": {
          "base_uri": "https://localhost:8080/"
        },
        "id": "zIPNzkRMMnPI",
        "outputId": "dd964230-abd9-4a02-da66-44424445762d"
      },
      "execution_count": 5,
      "outputs": [
        {
          "output_type": "stream",
          "name": "stdout",
          "text": [
            "I like orange\n"
          ]
        }
      ]
    },
    {
      "cell_type": "code",
      "source": [
        "#6.  Write a code to create a list with numbers 1 to 5 and print it.\n",
        "\n",
        "numbers = [1, 2, 3, 4, 5]\n",
        "print(numbers)\n"
      ],
      "metadata": {
        "colab": {
          "base_uri": "https://localhost:8080/"
        },
        "id": "LaE_aPpwM6LA",
        "outputId": "e1c215ef-21e1-4ca8-bbb5-70b52f8bd47b"
      },
      "execution_count": 6,
      "outputs": [
        {
          "output_type": "stream",
          "name": "stdout",
          "text": [
            "[1, 2, 3, 4, 5]\n"
          ]
        }
      ]
    },
    {
      "cell_type": "code",
      "source": [
        "#7  Write a code to append the number 10 to the list [1, 2, 3, 4].\n",
        "\n",
        "my_list = [1, 2, 3, 4]\n",
        "my_list.append(10)\n",
        "print(my_list)\n",
        "\n"
      ],
      "metadata": {
        "colab": {
          "base_uri": "https://localhost:8080/"
        },
        "id": "PNUjsJVeNQa4",
        "outputId": "988e743f-3888-452a-ac4d-f969415ba82b"
      },
      "execution_count": 8,
      "outputs": [
        {
          "output_type": "stream",
          "name": "stdout",
          "text": [
            "[1, 2, 3, 4, 10]\n"
          ]
        }
      ]
    },
    {
      "cell_type": "code",
      "source": [
        "#8. Write a code to remove the number 3 from the list [1, 2, 3, 4, 5].\n",
        "\n",
        "my_list = [1, 2, 3, 4, 5]\n",
        "my_list.remove(3)\n",
        "print(my_list)\n"
      ],
      "metadata": {
        "colab": {
          "base_uri": "https://localhost:8080/"
        },
        "id": "6kjosLXwNYrb",
        "outputId": "2944d193-0eac-49c3-e503-6ebc810f4f55"
      },
      "execution_count": 9,
      "outputs": [
        {
          "output_type": "stream",
          "name": "stdout",
          "text": [
            "[1, 2, 4, 5]\n"
          ]
        }
      ]
    },
    {
      "cell_type": "code",
      "source": [
        "#9. Write a code to access the second element in the list ['a', 'b', 'c', 'd'].\n",
        "\n",
        "my_list = ['a', 'b', 'c', 'd']\n",
        "second_element = my_list[1]\n",
        "print(second_element)\n"
      ],
      "metadata": {
        "colab": {
          "base_uri": "https://localhost:8080/"
        },
        "id": "HdK_UxfkNakw",
        "outputId": "4cb42a58-0e8d-4640-fd86-0a3eb24f58a1"
      },
      "execution_count": 10,
      "outputs": [
        {
          "output_type": "stream",
          "name": "stdout",
          "text": [
            "b\n"
          ]
        }
      ]
    },
    {
      "cell_type": "code",
      "source": [
        "#10. Write a code to reverse the list [10, 20, 30, 40, 50].\n",
        "\n",
        "my_list = [10, 20, 30, 40, 50]\n",
        "reversed_list = my_list[::-1]\n",
        "print(reversed_list)\n"
      ],
      "metadata": {
        "colab": {
          "base_uri": "https://localhost:8080/"
        },
        "id": "Q8qwfKvsNdDB",
        "outputId": "fa39806c-6394-4e4f-8dc9-6993328179aa"
      },
      "execution_count": 11,
      "outputs": [
        {
          "output_type": "stream",
          "name": "stdout",
          "text": [
            "[50, 40, 30, 20, 10]\n"
          ]
        }
      ]
    },
    {
      "cell_type": "code",
      "source": [
        "#11.Write a code to create a tuple with the elements 100, 200, 300 and print it.\n",
        "\n",
        "my_tuple = (100, 200, 300)\n",
        "print(my_tuple)\n"
      ],
      "metadata": {
        "colab": {
          "base_uri": "https://localhost:8080/"
        },
        "id": "XvI8gXYiNek8",
        "outputId": "1a8aa694-7ebb-4d48-c584-3752e3dc8e03"
      },
      "execution_count": 12,
      "outputs": [
        {
          "output_type": "stream",
          "name": "stdout",
          "text": [
            "(100, 200, 300)\n"
          ]
        }
      ]
    },
    {
      "cell_type": "code",
      "source": [
        "#12. Write a code to access the second-to-last element of the tuple ('red', 'green', 'blue', 'yellow').\n",
        "\n",
        "colors = ('red', 'green', 'blue', 'yellow')\n",
        "second_to_last = colors[-2]\n",
        "print(second_to_last)\n"
      ],
      "metadata": {
        "colab": {
          "base_uri": "https://localhost:8080/"
        },
        "id": "qlrO78fdNgFe",
        "outputId": "f00ab78a-e585-4367-959c-321f84db8057"
      },
      "execution_count": 13,
      "outputs": [
        {
          "output_type": "stream",
          "name": "stdout",
          "text": [
            "blue\n"
          ]
        }
      ]
    },
    {
      "cell_type": "code",
      "source": [
        "#13. Write a code to find the minimum number in the tuple (10, 20, 5, 15).\n",
        "\n",
        "numbers = (10, 20, 5, 15)\n",
        "minimum_number = min(numbers)\n",
        "print(\"The minimum number is:\", minimum_number)\n"
      ],
      "metadata": {
        "colab": {
          "base_uri": "https://localhost:8080/"
        },
        "id": "ozu8bZZyNhyq",
        "outputId": "2a8842d9-3fef-483b-b21b-385963962e11"
      },
      "execution_count": 14,
      "outputs": [
        {
          "output_type": "stream",
          "name": "stdout",
          "text": [
            "The minimum number is: 5\n"
          ]
        }
      ]
    },
    {
      "cell_type": "code",
      "source": [
        "#14.  Write a code to find the index of the element \"cat\" in the tuple ('dog', 'cat', 'rabbit').\n",
        "\n",
        "animals = ('dog', 'cat', 'rabbit')\n",
        "index_of_cat = animals.index('cat')\n",
        "print(\"The index of 'cat' is:\", index_of_cat)\n"
      ],
      "metadata": {
        "colab": {
          "base_uri": "https://localhost:8080/"
        },
        "id": "t7A4seaBNjC_",
        "outputId": "55e389be-acf2-4e95-abdf-3bf667f337e4"
      },
      "execution_count": 15,
      "outputs": [
        {
          "output_type": "stream",
          "name": "stdout",
          "text": [
            "The index of 'cat' is: 1\n"
          ]
        }
      ]
    },
    {
      "cell_type": "code",
      "source": [
        "#15.  Write a code to create a tuple containing three different fruits and check if \"kiwi\" is in it.\n",
        "\n",
        "fruits = (\"apple\", \"banana\", \"orange\")\n",
        "if \"kiwi\" in fruits:\n",
        "    print(\"Kiwi is in the tuple.\")\n",
        "else:\n",
        "    print(\"Kiwi is not in the tuple.\")\n"
      ],
      "metadata": {
        "colab": {
          "base_uri": "https://localhost:8080/"
        },
        "id": "o4wnaGn6NklJ",
        "outputId": "8319d1d1-30cc-49b4-c366-bb6ae3d6cbce"
      },
      "execution_count": 16,
      "outputs": [
        {
          "output_type": "stream",
          "name": "stdout",
          "text": [
            "Kiwi is not in the tuple.\n"
          ]
        }
      ]
    },
    {
      "cell_type": "code",
      "source": [
        "#16. Write a code to create a set with the elements 'a', 'b', 'c' and print it.\n",
        "\n",
        "my_set = {'a', 'b', 'c'}\n",
        "print(my_set)\n",
        "\n",
        "\n",
        "\n"
      ],
      "metadata": {
        "colab": {
          "base_uri": "https://localhost:8080/"
        },
        "id": "nHW2j9PVNl8P",
        "outputId": "5677455c-ff6e-4457-a707-9bacd8b38f6d"
      },
      "execution_count": 18,
      "outputs": [
        {
          "output_type": "stream",
          "name": "stdout",
          "text": [
            "{'c', 'b', 'a'}\n"
          ]
        }
      ]
    },
    {
      "cell_type": "code",
      "source": [
        "#17. Write a code to clear all elements from the set {1, 2, 3, 4, 5}.\n",
        "\n",
        "my_set = {1, 2, 3, 4, 5}\n",
        "my_set.clear()\n",
        "print(my_set)\n"
      ],
      "metadata": {
        "colab": {
          "base_uri": "https://localhost:8080/"
        },
        "id": "6G6DfoOIRuqX",
        "outputId": "e4c67cb4-f69f-4fa6-c887-bad022e51f2f"
      },
      "execution_count": 19,
      "outputs": [
        {
          "output_type": "stream",
          "name": "stdout",
          "text": [
            "set()\n"
          ]
        }
      ]
    },
    {
      "cell_type": "code",
      "source": [
        "#18. Write a code to remove the element 4 from the set {1, 2, 3, 4}.\n",
        "\n",
        "my_set = {1, 2, 3, 4}\n",
        "my_set.discard(4)\n",
        "print(my_set)\n"
      ],
      "metadata": {
        "colab": {
          "base_uri": "https://localhost:8080/"
        },
        "id": "mTpeVuqASM-u",
        "outputId": "4d2950d3-c5f3-4ce2-c10f-2e246a6f7c57"
      },
      "execution_count": 20,
      "outputs": [
        {
          "output_type": "stream",
          "name": "stdout",
          "text": [
            "{1, 2, 3}\n"
          ]
        }
      ]
    },
    {
      "cell_type": "code",
      "source": [
        "#19.  Write a code to find the union of two sets {1, 2, 3} and {3, 4, 5}.\n",
        "\n",
        "set1 = {1, 2, 3}\n",
        "set2 = {3, 4, 5}\n",
        "\n",
        "union_set = set1.union(set2)\n",
        "\n",
        "print(\"Union of the sets:\", union_set)\n"
      ],
      "metadata": {
        "colab": {
          "base_uri": "https://localhost:8080/"
        },
        "id": "kpiImU77Sfwf",
        "outputId": "441cc99a-bb55-434a-94dd-442a0a0ddc82"
      },
      "execution_count": 21,
      "outputs": [
        {
          "output_type": "stream",
          "name": "stdout",
          "text": [
            "Union of the sets: {1, 2, 3, 4, 5}\n"
          ]
        }
      ]
    },
    {
      "cell_type": "code",
      "source": [
        "#20.  Write a code to find the intersection of two sets {1, 2, 3} and {2, 3, 4}.\n",
        "\n",
        "set1 = {1, 2, 3}\n",
        "set2 = {2, 3, 4}\n",
        "\n",
        "intersection = set1 & set2\n",
        "\n",
        "print(\"Intersection:\", intersection)\n"
      ],
      "metadata": {
        "colab": {
          "base_uri": "https://localhost:8080/"
        },
        "id": "u3d8GMZvSw9K",
        "outputId": "a6f86948-3b59-445b-a52f-5884177c440d"
      },
      "execution_count": 22,
      "outputs": [
        {
          "output_type": "stream",
          "name": "stdout",
          "text": [
            "Intersection: {2, 3}\n"
          ]
        }
      ]
    },
    {
      "cell_type": "code",
      "source": [
        "#21.  Write a code to create a dictionary with the keys \"name\", \"age\", and \"city\", and print it.\n",
        "\n",
        "my_dict = {\n",
        "    \"sonu kumar\": None,\n",
        "    \"19\": None,\n",
        "    \"Begusarai\": None\n",
        "}\n",
        "\n",
        "print(my_dict)\n"
      ],
      "metadata": {
        "colab": {
          "base_uri": "https://localhost:8080/"
        },
        "id": "EUjKralJS52_",
        "outputId": "96b5c5da-1d39-4939-ea5b-48d48edc337f"
      },
      "execution_count": 23,
      "outputs": [
        {
          "output_type": "stream",
          "name": "stdout",
          "text": [
            "{'sonu kumar': None, '19': None, 'Begusarai': None}\n"
          ]
        }
      ]
    },
    {
      "cell_type": "code",
      "source": [
        "#22. Write a code to add a new key-value pair \"country\": \"USA\" to the dictionary {'name': 'John', 'age': 25}.\n",
        "\n",
        "person = {'name': 'John', 'age': 25}\n",
        "person['country'] = 'USA'\n",
        "\n",
        "print(person)\n"
      ],
      "metadata": {
        "colab": {
          "base_uri": "https://localhost:8080/"
        },
        "id": "hMIicYQAS7to",
        "outputId": "65ef2229-a726-4e73-bc48-652ca83dc727"
      },
      "execution_count": 24,
      "outputs": [
        {
          "output_type": "stream",
          "name": "stdout",
          "text": [
            "{'name': 'John', 'age': 25, 'country': 'USA'}\n"
          ]
        }
      ]
    },
    {
      "cell_type": "code",
      "source": [
        "#23. Write a code to access the value associated with the key \"name\" in the dictionary {'name': 'Alice', 'age': 30}.\n",
        "\n",
        "person = {'name': 'Alice', 'age': 30}\n",
        "name_value = person['name']\n",
        "print(name_value)\n"
      ],
      "metadata": {
        "colab": {
          "base_uri": "https://localhost:8080/"
        },
        "id": "IgT9_hEoS-hI",
        "outputId": "b6cab964-1f14-458f-c80c-15abb6f6e7fb"
      },
      "execution_count": 25,
      "outputs": [
        {
          "output_type": "stream",
          "name": "stdout",
          "text": [
            "Alice\n"
          ]
        }
      ]
    },
    {
      "cell_type": "code",
      "source": [
        "#24.  Write a code to remove the key \"age\" from the dictionary {'name': 'Bob', 'age': 22, 'city': 'New York'}.\n",
        "\n",
        "person = {'name': 'Bob', 'age': 22, 'city': 'New York'}\n",
        "\n",
        "person.pop('age', None)\n",
        "\n",
        "print(person)\n"
      ],
      "metadata": {
        "colab": {
          "base_uri": "https://localhost:8080/"
        },
        "id": "HxW3-MumTAhH",
        "outputId": "63fadd8a-b41e-47f1-a6c4-7094ebeeb137"
      },
      "execution_count": 26,
      "outputs": [
        {
          "output_type": "stream",
          "name": "stdout",
          "text": [
            "{'name': 'Bob', 'city': 'New York'}\n"
          ]
        }
      ]
    },
    {
      "cell_type": "code",
      "source": [
        "#25.  Write a code to check if the key \"city\" exists in the dictionary {'name': 'Alice', 'city': 'Paris'}.\n",
        "\n",
        "data = {'name': 'Alice', 'city': 'Paris'}\n",
        "\n",
        "if 'city' in data:\n",
        "    print(\"The key 'city' exists in the dictionary.\")\n",
        "else:\n",
        "    print(\"The key 'city' does not exist in the dictionary.\")\n"
      ],
      "metadata": {
        "colab": {
          "base_uri": "https://localhost:8080/"
        },
        "id": "bhuIDjhbTE6a",
        "outputId": "5903a011-b04f-4169-a9a0-42d50872bcaa"
      },
      "execution_count": 27,
      "outputs": [
        {
          "output_type": "stream",
          "name": "stdout",
          "text": [
            "The key 'city' exists in the dictionary.\n"
          ]
        }
      ]
    },
    {
      "cell_type": "code",
      "source": [
        "#26.  Write a code to create a list, a tuple, and a dictionary, and print them all.\n",
        "\n",
        "my_list = [1, 2, 3, 4, 5]\n",
        "\n",
        "my_tuple = ('a', 'b', 'c')\n",
        "\n",
        "my_dict = {'name': 'Alice', 'age': 30, 'city': 'New York'}\n",
        "\n",
        "print(\"List:\", my_list)\n",
        "print(\"Tuple:\", my_tuple)\n",
        "print(\"Dictionary:\", my_dict)\n"
      ],
      "metadata": {
        "colab": {
          "base_uri": "https://localhost:8080/"
        },
        "id": "NVOX1XmgTGm6",
        "outputId": "dc024e49-6968-4fb9-ded5-b06d2c378c5a"
      },
      "execution_count": 28,
      "outputs": [
        {
          "output_type": "stream",
          "name": "stdout",
          "text": [
            "List: [1, 2, 3, 4, 5]\n",
            "Tuple: ('a', 'b', 'c')\n",
            "Dictionary: {'name': 'Alice', 'age': 30, 'city': 'New York'}\n"
          ]
        }
      ]
    },
    {
      "cell_type": "code",
      "source": [
        "#27. Write a code to create a list of 5 random numbers between 1 and 100, sort it in ascending order, and print the result.(replaced)\n",
        "\n",
        "import random\n",
        "\n",
        "random_numbers = [random.randint(1, 100) for _ in range(5)]\n",
        "\n",
        "random_numbers.sort()\n",
        "\n",
        "print(\"Sorted random numbers:\", random_numbers)\n"
      ],
      "metadata": {
        "colab": {
          "base_uri": "https://localhost:8080/"
        },
        "id": "3HcDRwC5TKaV",
        "outputId": "d649a181-d5de-4529-8301-5ad09acd08d8"
      },
      "execution_count": 29,
      "outputs": [
        {
          "output_type": "stream",
          "name": "stdout",
          "text": [
            "Sorted random numbers: [33, 47, 63, 69, 90]\n"
          ]
        }
      ]
    },
    {
      "cell_type": "code",
      "source": [
        "#28. Write a code to create a list with strings and print the element at the third index.\n",
        "\n",
        "string_list = [\"apple\", \"banana\", \"cherry\", \"date\", \"elderberry\"]\n",
        "\n",
        "print(\"Element at index 3:\", string_list[3])\n"
      ],
      "metadata": {
        "colab": {
          "base_uri": "https://localhost:8080/"
        },
        "id": "GUKG3H_zTOO0",
        "outputId": "9aac1b79-4598-4187-edfc-202beeb00e8e"
      },
      "execution_count": 30,
      "outputs": [
        {
          "output_type": "stream",
          "name": "stdout",
          "text": [
            "Element at index 3: date\n"
          ]
        }
      ]
    },
    {
      "cell_type": "code",
      "source": [
        "#29. Write a code to combine two dictionaries into one and print the result.\n",
        "\n",
        "\n",
        "dict1 = {'a': 1, 'b': 2}\n",
        "dict2 = {'c': 3, 'd': 4}\n",
        "\n",
        "combined_dict = {**dict1, **dict2}\n",
        "\n",
        "print(\"Combined Dictionary:\", combined_dict)\n"
      ],
      "metadata": {
        "colab": {
          "base_uri": "https://localhost:8080/"
        },
        "id": "a6dXHRfBTP_O",
        "outputId": "2608f60b-1f6b-4f8d-9e35-e5de182a1152"
      },
      "execution_count": 31,
      "outputs": [
        {
          "output_type": "stream",
          "name": "stdout",
          "text": [
            "Combined Dictionary: {'a': 1, 'b': 2, 'c': 3, 'd': 4}\n"
          ]
        }
      ]
    },
    {
      "cell_type": "code",
      "source": [
        "#30 Write a code to convert a list of strings into a set.\n",
        "\n",
        "string_list = [\"apple\", \"banana\", \"cherry\", \"apple\", \"banana\"]\n",
        "\n",
        "string_set = set(string_list)\n",
        "\n",
        "print(string_set)\n"
      ],
      "metadata": {
        "colab": {
          "base_uri": "https://localhost:8080/"
        },
        "id": "1G5XdN-dTRVk",
        "outputId": "70b4ccdc-3525-4efe-c964-312ff5c9f764"
      },
      "execution_count": 32,
      "outputs": [
        {
          "output_type": "stream",
          "name": "stdout",
          "text": [
            "{'banana', 'apple', 'cherry'}\n"
          ]
        }
      ]
    }
  ]
}